{
  "metadata": {
    "kernelspec": {
      "name": "python3",
      "display_name": "Python 3"
    },
    "language_info": {
      "name": "python"
    },
    "colab": {
      "provenance": [],
      "collapsed_sections": [
        "RpNob7ZzaGAE"
      ]
    },
    "kaggle": {
      "accelerator": "none",
      "dataSources": [
        {
          "sourceId": 95606,
          "databundleVersionId": 11453440,
          "sourceType": "competition"
        }
      ],
      "isInternetEnabled": false,
      "language": "python",
      "sourceType": "notebook",
      "isGpuEnabled": false
    }
  },
  "nbformat_minor": 0,
  "nbformat": 4,
  "cells": [
    {
      "cell_type": "code",
      "source": [
        "import pandas as pd\n",
        "\n",
        "# Load CSV files into DataFrames\n",
        "df_staffing = pd.read_csv('/content/HCK_HEC_STAFFING.csv')"
      ],
      "metadata": {
        "id": "zOGS9To0o1Gg"
      },
      "outputs": [],
      "execution_count": 1
    },
    {
      "cell_type": "code",
      "source": [
        "import pandas as pd\n",
        "\n",
        "# Function to invert availability values (0 = available, 100 = unavailable)\n",
        "def invert_availability_values(staffing_df: pd.DataFrame) -> pd.DataFrame:\n",
        "    \"\"\"\n",
        "    Inverts the availability values in the month columns of the staffing DataFrame.\n",
        "    Converts 0 to 100 (available) and 100 to 0 (unavailable), and inverts other values proportionally.\n",
        "\n",
        "    Parameters:\n",
        "        staffing_df (pd.DataFrame): The original staffing DataFrame with month columns.\n",
        "\n",
        "    Returns:\n",
        "        pd.DataFrame: The modified staffing DataFrame with inverted availability values.\n",
        "    \"\"\"\n",
        "    # Define month columns (MONTH_1 to MONTH_12)\n",
        "    month_cols = [f\"MONTH_{i}\" for i in range(1, 13)]\n",
        "\n",
        "    # Invert values: 100 - current value for the month columns\n",
        "    staffing_inverted = staffing_df.copy()\n",
        "    staffing_inverted[month_cols] = 100 - staffing_inverted[month_cols]\n",
        "\n",
        "    return staffing_inverted\n",
        "\n",
        "# Function to save the inverted staffing DataFrame to CSV\n",
        "def save_inverted_staffing_to_csv(staffing_inverted_df: pd.DataFrame, file_name: str = \"staffing_inverted.csv\"):\n",
        "    \"\"\"\n",
        "    Saves the inverted staffing DataFrame to a CSV file.\n",
        "\n",
        "    Parameters:\n",
        "        staffing_inverted_df (pd.DataFrame): The modified staffing DataFrame.\n",
        "        file_name (str): The name of the file to save the CSV as.\n",
        "    \"\"\"\n",
        "    staffing_inverted_df.to_csv(file_name, index=False)\n",
        "    print(f\"Saved inverted staffing data to '{file_name}'.\")\n",
        "\n",
        "# Example Usage:\n",
        "# Assuming HCK_HEC_STAFFING is already loaded\n",
        "staffing_inverted = invert_availability_values(df_staffing)\n",
        "\n",
        "# Save the inverted DataFrame to a CSV\n",
        "save_inverted_staffing_to_csv(staffing_inverted, \"staffing_inverted.csv\")\n"
      ],
      "metadata": {
        "colab": {
          "base_uri": "https://localhost:8080/"
        },
        "id": "NgClYLxf_OJI",
        "outputId": "3d9f4609-3d18-4852-9107-dcbc17b9d6be"
      },
      "execution_count": 2,
      "outputs": [
        {
          "output_type": "stream",
          "name": "stdout",
          "text": [
            "Saved inverted staffing data to 'staffing_inverted.csv'.\n"
          ]
        }
      ]
    }
  ]
}